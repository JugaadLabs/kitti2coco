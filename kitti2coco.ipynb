{
 "metadata": {
  "language_info": {
   "codemirror_mode": {
    "name": "ipython",
    "version": 3
   },
   "file_extension": ".py",
   "mimetype": "text/x-python",
   "name": "python",
   "nbconvert_exporter": "python",
   "pygments_lexer": "ipython3",
   "version": "3.7.6-final"
  },
  "orig_nbformat": 2,
  "kernelspec": {
   "name": "5ccb8385-5f47-42b3-99be-ce760183f782",
   "display_name": "'Python Interactive'"
  }
 },
 "nbformat": 4,
 "nbformat_minor": 2,
 "cells": [
  {
   "cell_type": "code",
   "execution_count": null,
   "metadata": {
    "tags": []
   },
   "outputs": [],
   "source": [
    "import numpy as np\n",
    "from matplotlib import pyplot as plt\n",
    "from scipy import interpolate\n",
    "import matplotlib.image as mpimg\n",
    "import os\n",
    "import PIL.Image as Image\n",
    "from os import listdir\n",
    "from os.path import isfile, join\n",
    "import json\n",
    "%load_ext autoreload\n",
    "%autoreload 2"
   ]
  },
  {
   "cell_type": "code",
   "execution_count": null,
   "metadata": {},
   "outputs": [],
   "source": [
    "label_dir = '/home/marvin/tlt-forklift/data/training/label_2/'\n",
    "files = [f for f in listdir(label_dir) if isfile(join(label_dir, f))]\n",
    "filedata = []\n",
    "width = 640\n",
    "height = 368\n",
    "\n",
    "forkliftID = 0\n",
    "palletID = 1\n",
    "\n",
    "def parseFile(dir, filename):\n",
    "    f = open(dir+filename,\"r\")\n",
    "    line = f.readline()\n",
    "    words = line.split()\n",
    "    label = words[0]\n",
    "    bbox = [float(i) for i in words[4:8]]\n",
    "    image_id = filename[0:6]\n",
    "    return (image_id,label,bbox)"
   ]
  },
  {
   "cell_type": "code",
   "execution_count": null,
   "metadata": {
    "tags": []
   },
   "outputs": [],
   "source": [
    "coco_json = {}\n",
    "coco_json['images'] = []\n",
    "coco_json['annotations'] = []\n",
    "coco_json['categories'] = []\n",
    "for file in files:\n",
    "    fullpath = os.path.join(label_dir,file)\n",
    "    if (os.path.getsize(fullpath)>0 and file != '.directory'):\n",
    "        item = parseFile(label_dir, file)\n",
    "        image_record = {}\n",
    "        image_record['id'] = int(item[0])\n",
    "        image_record['width'] = width\n",
    "        image_record['height'] = height\n",
    "        image_record['file_name'] = item[0]+\".png\"\n",
    "        coco_json['images'].append(image_record)\n",
    "        annotation_record = {}\n",
    "        annotation_record['id'] = int(item[0])\n",
    "        annotation_record['iscrowd'] = 0\n",
    "        annotation_record['category_id'] = forkliftID if item[1] == 'forklift' else palletID\n",
    "        annotation_record['image_id'] = annotation_record['id']\n",
    "        annotation_record['bbox'] = item[2]\n",
    "        coco_json['annotations'].append(annotation_record)"
   ]
  },
  {
   "cell_type": "code",
   "execution_count": null,
   "metadata": {},
   "outputs": [],
   "source": [
    "category = {}\n",
    "category['supercategory'] = 'forklift'\n",
    "category['id'] = forkliftID\n",
    "category['name'] = 'forklift'\n",
    "coco_json['categories'].append(category)\n",
    "category = {}\n",
    "category['supercategory'] = 'pallet'\n",
    "category['id'] = palletID\n",
    "category['name'] = 'pallet'\n",
    "coco_json['categories'].append(category)"
   ]
  },
  {
   "cell_type": "code",
   "execution_count": null,
   "metadata": {},
   "outputs": [],
   "source": [
    "with open('/home/marvin/coco.json', 'w') as fp:\n",
    "    json.dump(coco_json, fp)"
   ]
  },
  {
   "cell_type": "code",
   "execution_count": null,
   "metadata": {},
   "outputs": [],
   "source": []
  }
 ]
}