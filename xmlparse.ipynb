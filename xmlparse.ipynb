{
 "metadata": {
  "language_info": {
   "codemirror_mode": {
    "name": "ipython",
    "version": 3
   },
   "file_extension": ".py",
   "mimetype": "text/x-python",
   "name": "python",
   "nbconvert_exporter": "python",
   "pygments_lexer": "ipython3",
   "version": "3.7.6-final"
  },
  "orig_nbformat": 2,
  "kernelspec": {
   "name": "5ccb8385-5f47-42b3-99be-ce760183f782",
   "display_name": "'Python Interactive'"
  }
 },
 "nbformat": 4,
 "nbformat_minor": 2,
 "cells": [
  {
   "cell_type": "code",
   "execution_count": null,
   "metadata": {},
   "outputs": [],
   "source": [
    "import xmltodict\n",
    "from pathlib import Path\n",
    "import os\n",
    "from os import listdir\n",
    "from PIL import Image \n",
    "import numpy as np\n",
    "from os.path import isfile, join\n",
    "import types\n",
    "from tqdm import tqdm"
   ]
  },
  {
   "cell_type": "code",
   "execution_count": null,
   "metadata": {},
   "outputs": [],
   "source": [
    "def processXML(dir, filename):\n",
    "    path = os.path.join(dir,filename)\n",
    "    txt = Path(path).read_text()\n",
    "    dict = xmltodict.parse(txt)\n",
    "    concisedict = {}\n",
    "    concisedict['img_path'] = os.path.join(dir, dict['annotation']['filename']+'.JPEG')\n",
    "    if os.path.exists(concisedict['img_path'])==True:\n",
    "        concisedict['tensor'] = np.array(Image.open(concisedict['img_path']))\n",
    "    else:\n",
    "        return None\n",
    "    concisedict['height'] = int(dict['annotation']['size']['height'])\n",
    "    concisedict['width'] =  int(dict['annotation']['size']['width'])\n",
    "    concisedict['depth'] =  int(dict['annotation']['size']['depth'])\n",
    "    concisedict['bbox'] = []\n",
    "    obj = dict['annotation']['object']\n",
    "    if type(obj) is list:\n",
    "        for tmp in dict['annotation']['object']:\n",
    "            concisedict['bbox'].append(tmp['bndbox'])\n",
    "    else:\n",
    "        concisedict['bbox'].append(obj['bndbox'])\n",
    "    return concisedict"
   ]
  },
  {
   "cell_type": "code",
   "execution_count": null,
   "metadata": {
    "tags": []
   },
   "outputs": [],
   "source": [
    "dir = '/home/nic/research/forklift/n03384352/'\n",
    "files = [f for f in listdir(dir) if isfile(join(dir, f)) and f[-3:]=='xml']\n",
    "imageDicts = []\n",
    "for i in tqdm(range(len(files))):\n",
    "    d = processXML(dir,files[i])\n",
    "    imageDicts.append(d)\n"
   ]
  },
  {
   "cell_type": "code",
   "execution_count": null,
   "metadata": {},
   "outputs": [],
   "source": []
  }
 ]
}