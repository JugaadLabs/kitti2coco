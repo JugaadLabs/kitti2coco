{
 "metadata": {
  "language_info": {
   "codemirror_mode": {
    "name": "ipython",
    "version": 3
   },
   "file_extension": ".py",
   "mimetype": "text/x-python",
   "name": "python",
   "nbconvert_exporter": "python",
   "pygments_lexer": "ipython3",
   "version": "3.7.6-final"
  },
  "orig_nbformat": 2,
  "kernelspec": {
   "name": "5ccb8385-5f47-42b3-99be-ce760183f782",
   "display_name": "'Python Interactive'"
  }
 },
 "nbformat": 4,
 "nbformat_minor": 2,
 "cells": [
  {
   "cell_type": "code",
   "execution_count": 14,
   "metadata": {},
   "outputs": [],
   "source": [
    "import xmltodict\n",
    "from pathlib import Path"
   ]
  },
  {
   "cell_type": "code",
   "execution_count": 15,
   "metadata": {},
   "outputs": [],
   "source": [
    "path = '/home/nic/research/forklift/n03384352/n03384352_22.xml'"
   ]
  },
  {
   "cell_type": "code",
   "execution_count": 18,
   "metadata": {},
   "outputs": [],
   "source": [
    "def processXML(filepath):\n",
    "    txt = Path(path).read_text(filepath)\n",
    "    dict = xmltodict.parse(txt)\n",
    "    concisedict = {}\n",
    "    concisedict['img_filename'] = dict['annotation']['filename']+'.JPEG'\n",
    "    concisedict['height'] = int(dict['annotation']['height'])\n",
    "    concisedict['width'] = int(dict['annotation']['width'])\n",
    "    concisedict['depth'] = int(dict['annotation']['depth'])\n",
    "    concisedict['bbox'] = dict['annotation']['object']['bndbox']\n",
    "    return concisedict"
   ]
  },
  {
   "cell_type": "code",
   "execution_count": 11,
   "metadata": {},
   "outputs": [],
   "source": [
    "dict = xmltodict.parse(str)\n"
   ]
  },
  {
   "cell_type": "code",
   "execution_count": 12,
   "metadata": {},
   "outputs": [
    {
     "output_type": "execute_result",
     "data": {
      "text/plain": "OrderedDict([('folder', 'n03384352'),\n             ('filename', 'n03384352_22'),\n             ('source', OrderedDict([('database', 'ImageNet database')])),\n             ('size',\n              OrderedDict([('width', '500'),\n                           ('height', '375'),\n                           ('depth', '3')])),\n             ('segmented', '0'),\n             ('object',\n              OrderedDict([('name', 'n03384352'),\n                           ('pose', 'Unspecified'),\n                           ('truncated', '0'),\n                           ('difficult', '0'),\n                           ('bndbox',\n                            OrderedDict([('xmin', '177'),\n                                         ('ymin', '83'),\n                                         ('xmax', '499'),\n                                         ('ymax', '337')]))]))])"
     },
     "metadata": {},
     "execution_count": 12
    }
   ],
   "source": [
    "dict['annotation']"
   ]
  },
  {
   "cell_type": "code",
   "execution_count": null,
   "metadata": {},
   "outputs": [],
   "source": []
  }
 ]
}